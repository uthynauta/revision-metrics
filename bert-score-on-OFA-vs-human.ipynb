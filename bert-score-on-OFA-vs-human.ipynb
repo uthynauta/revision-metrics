{
 "cells": [
  {
   "cell_type": "code",
   "execution_count": 1,
   "id": "7db5f883",
   "metadata": {},
   "outputs": [
    {
     "name": "stderr",
     "output_type": "stream",
     "text": [
      "/home/uthy/anaconda3/envs/tf/lib/python3.9/site-packages/tqdm/auto.py:21: TqdmWarning: IProgress not found. Please update jupyter and ipywidgets. See https://ipywidgets.readthedocs.io/en/stable/user_install.html\n",
      "  from .autonotebook import tqdm as notebook_tqdm\n"
     ]
    }
   ],
   "source": [
    "import json\n",
    "import numpy as np\n",
    "import matplotlib.pyplot as plt\n",
    "from scipy import stats\n",
    "import torch\n",
    "from PIL import Image\n",
    "import time\n",
    "from bert_score import score\n",
    "from collections import namedtuple"
   ]
  },
  {
   "cell_type": "code",
   "execution_count": 2,
   "id": "ce48fb06",
   "metadata": {},
   "outputs": [],
   "source": [
    "# Function to load data from file and process captions\n",
    "def get_data(file_name):\n",
    "    # Open the file and load the JSON data\n",
    "    with open(file_name) as f:\n",
    "        data = json.load(f)\n",
    "\n",
    "    # Create a dictionary mapping image IDs to their filenames\n",
    "    img_names = {dt['id']: dt['file_name'] for dt in data['images']}\n",
    "\n",
    "    # Create a dictionary to store annotations (captions) for each image\n",
    "    imgToAnns = {ann['image_id']: [] for ann in data['annotations']}    \n",
    "\n",
    "    # Process and store the annotations for each image\n",
    "    for ann in data['annotations']:\n",
    "        ann['caption'] = pre_process_text(ann['caption'])        \n",
    "        imgToAnns[ann['image_id']] += [ann]                \n",
    "\n",
    "    return img_names, imgToAnns\n",
    "\n",
    "# Function to preprocess text by converting to lowercase and removing special characters\n",
    "def pre_process_text(text):\n",
    "    forbiden_char = \"?.;:!,$#%/'()[]0123456789=´+-&@`\" + '\"'\n",
    "    text = text.lower()\n",
    "    text = \"\".join(u for u in text if u not in forbiden_char)\n",
    "    return text"
   ]
  },
  {
   "cell_type": "code",
   "execution_count": 123,
   "id": "789b2411",
   "metadata": {},
   "outputs": [],
   "source": [
    "# Load the predicted captions\n",
    "with open(\"pred_OFA_cocoval2017.json\") as f:\n",
    "    OFA_pred_raw = json.load(f)\n",
    "    \n",
    "OFA_pred_raw = list(OFA_pred_raw.items())"
   ]
  },
  {
   "cell_type": "code",
   "execution_count": 127,
   "id": "c99f2177-0346-4295-8110-1f74a53eff88",
   "metadata": {},
   "outputs": [
    {
     "data": {
      "text/plain": [
       "('397133', 'person preparing food in the kitchen')"
      ]
     },
     "execution_count": 127,
     "metadata": {},
     "output_type": "execute_result"
    }
   ],
   "source": []
  },
  {
   "cell_type": "code",
   "execution_count": 51,
   "id": "c9d9f770",
   "metadata": {},
   "outputs": [],
   "source": [
    "OFA_pred = []\n",
    "\n",
    "# Process each prediction to extract the image file and predicted caption\n",
    "for s in OFA_pred_raw:\n",
    "    pred = s\n",
    "    #img_files.append(file)\n",
    "    OFA_pred.append(pred)"
   ]
  },
  {
   "cell_type": "code",
   "execution_count": 52,
   "id": "ba433175-8f99-4a79-bc87-aac2469689fb",
   "metadata": {},
   "outputs": [],
   "source": [
    "data_file = '/media/uthy/M_2/CentroGEO/coco2017/annotations/captions_val2017.json'\n",
    "path = '/media/uthy/M_2/CentroGEO/coco2017/val2017/'\n",
    "\n",
    "img_names = []\n",
    "img2anns = []\n",
    "\n",
    "# Get the original captions and image filenames from the dataset\n",
    "img_names, img2anns = get_data(data_file)"
   ]
  },
  {
   "cell_type": "code",
   "execution_count": 134,
   "id": "b4817e19",
   "metadata": {},
   "outputs": [],
   "source": [
    "# Initialize lists to store the original captions and human captions\n",
    "true_cap = []\n",
    "humans_cap = []\n",
    "\n",
    "# For each prediction\n",
    "for pred in OFA_pred:\n",
    "    # Get the image ID from the prediction\n",
    "    id_img = int(pred[0])  # convert to integer\n",
    "    \n",
    "    # If this image ID is in the img2anns dictionary\n",
    "    if id_img in img2anns:\n",
    "        #print('OK')\n",
    "        # Get the captions for this image\n",
    "        ref = [s['caption'] for s in img2anns[id_img]]\n",
    "\n",
    "        # Append the original captions (2nd to 5th) to the true_cap list\n",
    "        true_cap.append(ref[1:5])\n",
    "\n",
    "        # Append the first caption (human's) to the humans_cap list\n",
    "        humans_cap.append(ref[0])"
   ]
  },
  {
   "cell_type": "code",
   "execution_count": 138,
   "id": "f5f08451-a8ed-4619-a65a-e1c19bb916b6",
   "metadata": {},
   "outputs": [
    {
     "name": "stdout",
     "output_type": "stream",
     "text": [
      "('10363', 'a cat in a car')\n",
      "['a cat standing on the hood of a car', 'grey color cat standing on hood of car in garage', 'a gray cat on the hood of a black car', 'a cat sitting on the hood of a parked black car in a garage']\n",
      "a gray cat standing on top of a black car\n"
     ]
    }
   ],
   "source": [
    "idx = 1000\n",
    "\n",
    "print(OFA_pred[idx])\n",
    "print(true_cap[idx])\n",
    "print(humans_cap[idx])\n",
    "#im = Image.open(path + img_files[idx])\n",
    "#im"
   ]
  },
  {
   "cell_type": "raw",
   "id": "42eb42e1-0973-40ce-a021-59c826bf462c",
   "metadata": {},
   "source": [
    "path + img_files[idx]"
   ]
  },
  {
   "cell_type": "code",
   "execution_count": 139,
   "id": "bde77a0f-2376-4978-85aa-1fd3b868bd45",
   "metadata": {},
   "outputs": [
    {
     "data": {
      "text/plain": [
       "True"
      ]
     },
     "execution_count": 139,
     "metadata": {},
     "output_type": "execute_result"
    }
   ],
   "source": [
    "torch.cuda.is_available()"
   ]
  },
  {
   "cell_type": "code",
   "execution_count": 140,
   "id": "71e48e1e-7c85-4681-83e6-5c49b634cc52",
   "metadata": {},
   "outputs": [
    {
     "name": "stdout",
     "output_type": "stream",
     "text": [
      "All items have the same number of captions: True\n"
     ]
    }
   ],
   "source": [
    "# Initialize a variable to hold the length of the first item's captions\n",
    "first_length = len(true_cap[0])\n",
    "\n",
    "# Check if all other items have the same number of captions\n",
    "all_same_length = all(len(item) == first_length for item in true_cap)\n",
    "\n",
    "# Print out the result\n",
    "print(f\"All items have the same number of captions: {all_same_length}\")"
   ]
  },
  {
   "cell_type": "markdown",
   "id": "1654cdde-1f9f-4939-96c3-a9939c7c6158",
   "metadata": {},
   "source": [
    "# Score"
   ]
  },
  {
   "cell_type": "code",
   "execution_count": 141,
   "id": "6d86b20b",
   "metadata": {},
   "outputs": [],
   "source": [
    "BERTScore = namedtuple(\"BERTScore\", [\"P\", \"R\", \"F1\"])\n",
    "\n",
    "# Function to calculate BERTScore\n",
    "def calculate_bert_score(pred_captions, ref_captions):\n",
    "    assert len(pred_captions) == len(ref_captions), \"Mismatched number of captions\"\n",
    "\n",
    "    P, R, F1 = score(pred_captions, ref_captions, lang=\"en\", verbose=True)\n",
    "\n",
    "    # Converting tensors to list of scores\n",
    "    P = P.tolist()\n",
    "    R = R.tolist()\n",
    "    F1 = F1.tolist()\n",
    "\n",
    "    # Creating namedtuples for each score\n",
    "    bert_scores = [BERTScore(p, r, f1) for p, r, f1 in zip(P, R, F1)]\n",
    "\n",
    "    return bert_scores"
   ]
  },
  {
   "cell_type": "code",
   "execution_count": 145,
   "id": "baf9991f-c968-4bbb-ac0a-564cea1f57cd",
   "metadata": {},
   "outputs": [],
   "source": [
    "# Flat lists to hold all captions\n",
    "pred_captions = []\n",
    "ref_captions = []\n",
    "\n",
    "# Assuming each image in OFA_pred has a corresponding caption\n",
    "pred_captions = [caption[1] for caption in OFA_pred]\n",
    "\n",
    "# Assuming each image in true_cap has a corresponding set of captions\n",
    "ref_captions = [captions[0] for captions in true_cap]\n",
    "\n",
    "# Assuming each image in human_cap has a corresponding caption\n",
    "h_captions = [caption for caption in humans_cap]"
   ]
  },
  {
   "cell_type": "code",
   "execution_count": 147,
   "id": "08f28d0c-ef27-49d4-8d7a-571c1ee8a7f8",
   "metadata": {},
   "outputs": [
    {
     "name": "stderr",
     "output_type": "stream",
     "text": [
      "Some weights of RobertaModel were not initialized from the model checkpoint at roberta-large and are newly initialized: ['roberta.pooler.dense.bias', 'roberta.pooler.dense.weight']\n",
      "You should probably TRAIN this model on a down-stream task to be able to use it for predictions and inference.\n"
     ]
    },
    {
     "name": "stdout",
     "output_type": "stream",
     "text": [
      "calculating scores...\n",
      "computing bert embedding.\n"
     ]
    },
    {
     "name": "stderr",
     "output_type": "stream",
     "text": [
      "100%|█████████████████████████████████████████| 137/137 [00:13<00:00,  9.95it/s]\n"
     ]
    },
    {
     "name": "stdout",
     "output_type": "stream",
     "text": [
      "computing greedy matching.\n"
     ]
    },
    {
     "name": "stderr",
     "output_type": "stream",
     "text": [
      "100%|██████████████████████████████████████████| 79/79 [00:00<00:00, 120.47it/s]"
     ]
    },
    {
     "name": "stdout",
     "output_type": "stream",
     "text": [
      "done in 14.44 seconds, 346.15 sentences/sec\n"
     ]
    },
    {
     "name": "stderr",
     "output_type": "stream",
     "text": [
      "\n"
     ]
    }
   ],
   "source": [
    "# Calculate the BERTScores for predicted captions\n",
    "bert_scores = calculate_bert_score(pred_captions, ref_captions)"
   ]
  },
  {
   "cell_type": "code",
   "execution_count": 148,
   "id": "f833708e-93cd-4334-b589-575ca296edf1",
   "metadata": {},
   "outputs": [
    {
     "name": "stderr",
     "output_type": "stream",
     "text": [
      "Some weights of RobertaModel were not initialized from the model checkpoint at roberta-large and are newly initialized: ['roberta.pooler.dense.bias', 'roberta.pooler.dense.weight']\n",
      "You should probably TRAIN this model on a down-stream task to be able to use it for predictions and inference.\n"
     ]
    },
    {
     "name": "stdout",
     "output_type": "stream",
     "text": [
      "calculating scores...\n",
      "computing bert embedding.\n"
     ]
    },
    {
     "name": "stderr",
     "output_type": "stream",
     "text": [
      "100%|█████████████████████████████████████████| 156/156 [00:13<00:00, 11.20it/s]\n"
     ]
    },
    {
     "name": "stdout",
     "output_type": "stream",
     "text": [
      "computing greedy matching.\n"
     ]
    },
    {
     "name": "stderr",
     "output_type": "stream",
     "text": [
      "100%|██████████████████████████████████████████| 79/79 [00:00<00:00, 126.13it/s]"
     ]
    },
    {
     "name": "stdout",
     "output_type": "stream",
     "text": [
      "done in 14.57 seconds, 343.17 sentences/sec\n"
     ]
    },
    {
     "name": "stderr",
     "output_type": "stream",
     "text": [
      "\n"
     ]
    }
   ],
   "source": [
    "# Calculate the BERTScores for human captions\n",
    "h_bert_scores = calculate_bert_score(h_captions, ref_captions)"
   ]
  },
  {
   "cell_type": "code",
   "execution_count": 149,
   "id": "c5d70209",
   "metadata": {},
   "outputs": [
    {
     "name": "stdout",
     "output_type": "stream",
     "text": [
      "F1 Score of caption 1: 0.8603441119194031\n",
      "F1 Score of caption 2: 0.8592933416366577\n",
      "F1 Score of caption 3: 0.8264448046684265\n",
      "F1 Score of caption 4: 0.9000872373580933\n",
      "F1 Score of caption 5: 0.9288530349731445\n",
      "F1 Score of caption 6: 0.8955249786376953\n",
      "F1 Score of caption 7: 0.8402031064033508\n",
      "F1 Score of caption 8: 0.8720954060554504\n",
      "F1 Score of caption 9: 0.8969172835350037\n",
      "F1 Score of caption 10: 0.9038126468658447\n"
     ]
    }
   ],
   "source": [
    "print(\"\\n\".join(f\"F1 Score of caption {i+1}: {score.F1}\" for i, score in enumerate(bert_scores[:10])))"
   ]
  },
  {
   "cell_type": "code",
   "execution_count": 150,
   "id": "63864e9a",
   "metadata": {},
   "outputs": [],
   "source": [
    "def combine_scores(scores_list):\n",
    "    n = len(scores_list[0])\n",
    "    l = len(scores_list)\n",
    "    skip = n // l\n",
    "    scores = np.zeros_like(scores_list[0])\n",
    "    order = np.zeros((n))\n",
    "    for i in range(0, n, skip):\n",
    "        if (i+skip>n):\n",
    "            break\n",
    "        scores[i: i + skip] = scores_list[i//skip][i: i + skip]\n",
    "        order[i: i + skip] = i // skip\n",
    "    return scores, order\n",
    "\n",
    "def combine_scores_full(scores_list):\n",
    "    n = len(scores_list[0])\n",
    "    l = len(scores_list)\n",
    "    scores = np.concatenate(scores_list)\n",
    "    order = np.zeros_like(scores)    \n",
    "    for i in range(l):        \n",
    "        order[i*n: (i + 1)*n] = i \n",
    "    return scores, order\n",
    "\n",
    "def plot(new_order, file_name):\n",
    "    q0 = np.where(np.array(new_order)==0)\n",
    "    q1 = np.where(np.array(new_order)==1)    \n",
    "\n",
    "    fig, ax = plt.subplots(figsize=(10,4))\n",
    "\n",
    "    ax.hist(q0, 20, alpha=1, histtype=\"bar\", linewidth=5, label=\"OFA\", color='#440154')\n",
    "    ax.hist(q1, 20, alpha=.9, histtype=\"bar\", linewidth=5, label=\"Human\", color='#ded70b')\n",
    "    ax.legend()\n",
    "    plt.savefig('imgs/' + file_name, dpi=800)\n",
    "    plt.show()"
   ]
  },
  {
   "cell_type": "code",
   "execution_count": 151,
   "id": "31c2f2f9",
   "metadata": {},
   "outputs": [
    {
     "data": {
      "image/png": "[encoded data removed]",
      "text/plain": [
       "<Figure size 1000x400 with 1 Axes>"
      ]
     },
     "metadata": {},
     "output_type": "display_data"
    }
   ],
   "source": [
    "scores, order = combine_scores_full([[score.F1 for score in bert_scores], \n",
    "                                     [score.F1 for score in h_bert_scores]])\n",
    "new_order = sorted(zip(scores, order))\n",
    "new_order = [p[1] for p in new_order]\n",
    "plot(new_order, \"bert_OFA-vs-human.pdf\")"
   ]
  },
  {
   "cell_type": "code",
   "execution_count": 152,
   "id": "490fa892",
   "metadata": {},
   "outputs": [
    {
     "data": {
      "text/plain": [
       "SignificanceResult(statistic=0.0796, pvalue=1.5656224471969547e-15)"
      ]
     },
     "execution_count": 152,
     "metadata": {},
     "output_type": "execute_result"
    }
   ],
   "source": [
    "stats.spearmanr(order, new_order)"
   ]
  },
  {
   "cell_type": "code",
   "execution_count": null,
   "id": "1859215c",
   "metadata": {},
   "outputs": [],
   "source": []
  }
 ],
 "metadata": {
  "kernelspec": {
   "display_name": "Python 3 (ipykernel)",
   "language": "python",
   "name": "python3"
  },
  "language_info": {
   "codemirror_mode": {
    "name": "ipython",
    "version": 3
   },
   "file_extension": ".py",
   "mimetype": "text/x-python",
   "name": "python",
   "nbconvert_exporter": "python",
   "pygments_lexer": "ipython3",
   "version": "3.9.16"
  }
 },
 "nbformat": 4,
 "nbformat_minor": 5
}
